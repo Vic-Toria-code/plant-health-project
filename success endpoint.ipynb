{
 "cells": [
  {
   "cell_type": "code",
   "execution_count": 3,
   "metadata": {},
   "outputs": [
    {
     "name": "stderr",
     "output_type": "stream",
     "text": [
      "'get_image_uri' method will be deprecated in favor of 'ImageURIProvider' class in SageMaker Python SDK v2.\n"
     ]
    },
    {
     "name": "stdout",
     "output_type": "stream",
     "text": [
      "testing-classification-model\n",
      "s3://planthealth/corn/output/IC-Corn-1594406061/output/model.tar.gz\n",
      "arn:aws:sagemaker:us-east-1:622247710393:model/testing-classification-model\n"
     ]
    }
   ],
   "source": [
    "\n",
    "import boto3\n",
    "from time import gmtime, strftime\n",
    "import sagemaker\n",
    "from sagemaker import get_execution_role\n",
    "from sagemaker.amazon.amazon_estimator import get_image_uri\n",
    "\n",
    "role = get_execution_role()\n",
    "sess = sagemaker.Session()\n",
    "\n",
    "sage = boto3.Session().client(service_name='sagemaker') \n",
    "\n",
    "\n",
    "model_name=\"testing-classification-model\"\n",
    "print(model_name)\n",
    "info = sage.describe_training_job(TrainingJobName='IC-Corn-1594406061')\n",
    "model_data = info['ModelArtifacts']['S3ModelArtifacts']\n",
    "print(model_data)\n",
    "\n",
    "hosting_image = get_image_uri(boto3.Session().region_name, 'image-classification')\n",
    "\n",
    "primary_container = {\n",
    "    'Image': hosting_image,\n",
    "    'ModelDataUrl': model_data,\n",
    "}\n",
    "\n",
    "create_model_response = sage.create_model(\n",
    "    ModelName = model_name,\n",
    "    ExecutionRoleArn = role,\n",
    "    PrimaryContainer = primary_container)\n",
    "\n",
    "print(create_model_response['ModelArn'])"
   ]
  },
  {
   "cell_type": "code",
   "execution_count": 4,
   "metadata": {},
   "outputs": [
    {
     "name": "stdout",
     "output_type": "stream",
     "text": [
      "Endpoint configuration name: testendpoint-epc\n",
      "Endpoint configuration arn:  arn:aws:sagemaker:us-east-1:622247710393:endpoint-config/testendpoint-epc\n"
     ]
    }
   ],
   "source": [
    "#Create Endpoint Configuration with Amazon Elastic Inference\n",
    "from time import gmtime, strftime\n",
    "\n",
    "\n",
    "endpoint_config_name = 'testendpoint' + '-epc' \n",
    "endpoint_config_response = sage.create_endpoint_config(\n",
    "    EndpointConfigName = endpoint_config_name,\n",
    "    ProductionVariants=[{\n",
    "        'InstanceType':'ml.m4.xlarge',\n",
    "        'InitialInstanceCount':1,\n",
    "        'ModelName':model_name,\n",
    "        'AcceleratorType': 'ml.eia1.large',\n",
    "        'VariantName':'AllTraffic'}])\n",
    "\n",
    "print('Endpoint configuration name: {}'.format(endpoint_config_name))\n",
    "print('Endpoint configuration arn:  {}'.format(endpoint_config_response['EndpointConfigArn']))\n"
   ]
  },
  {
   "cell_type": "code",
   "execution_count": 5,
   "metadata": {},
   "outputs": [
    {
     "name": "stdout",
     "output_type": "stream",
     "text": [
      "Endpoint name: testingendpoint\n",
      "EndpointArn = arn:aws:sagemaker:us-east-1:622247710393:endpoint/testingendpoint\n",
      "CPU times: user 61.4 ms, sys: 0 ns, total: 61.4 ms\n",
      "Wall time: 285 ms\n"
     ]
    }
   ],
   "source": [
    "%%time\n",
    "import time\n",
    "sagemaker = boto3.client('sagemaker')\n",
    "\n",
    "timestamp = time.strftime('-%Y-%m-%d-%H-%M-%S', time.gmtime())\n",
    "endpoint_name = 'testingendpoint'\n",
    "print('Endpoint name: {}'.format(endpoint_name))\n",
    "\n",
    "endpoint_params = {\n",
    "    'EndpointName': endpoint_name,\n",
    "    'EndpointConfigName': endpoint_config_name,\n",
    "}\n",
    "endpoint_response = sagemaker.create_endpoint(**endpoint_params)\n",
    "print('EndpointArn = {}'.format(endpoint_response['EndpointArn']))"
   ]
  },
  {
   "cell_type": "code",
   "execution_count": 6,
   "metadata": {},
   "outputs": [],
   "source": [
    "#Perform Inference    \n",
    "#initialise boto3\n",
    "import boto3\n",
    "runtime = boto3.Session().client(service_name='runtime.sagemaker')\n"
   ]
  },
  {
   "cell_type": "code",
   "execution_count": 7,
   "metadata": {},
   "outputs": [
    {
     "name": "stdout",
     "output_type": "stream",
     "text": [
      "--2020-07-23 12:53:31--  http://ourtestimages.s3-website-us-east-1.amazonaws.com/cornhealthy.jpg\n",
      "Resolving ourtestimages.s3-website-us-east-1.amazonaws.com (ourtestimages.s3-website-us-east-1.amazonaws.com)... 52.217.4.3\n",
      "Connecting to ourtestimages.s3-website-us-east-1.amazonaws.com (ourtestimages.s3-website-us-east-1.amazonaws.com)|52.217.4.3|:80... connected.\n",
      "HTTP request sent, awaiting response... 200 OK\n",
      "Length: 6889 (6.7K) [image/jpeg]\n",
      "Saving to: ‘/tmp/test.jpg’\n",
      "\n",
      "/tmp/test.jpg       100%[===================>]   6.73K  --.-KB/s    in 0s      \n",
      "\n",
      "2020-07-23 12:53:31 (578 MB/s) - ‘/tmp/test.jpg’ saved [6889/6889]\n",
      "\n"
     ]
    },
    {
     "data": {
      "image/jpeg": "[encoded data removed]",
      "text/plain": [
       "<IPython.core.display.Image object>"
      ]
     },
     "execution_count": 7,
     "metadata": {},
     "output_type": "execute_result"
    }
   ],
   "source": [
    "#getfile\n",
    "!wget -O /tmp/test.jpg http://ourtestimages.s3-website-us-east-1.amazonaws.com/cornhealthy.jpg \n",
    "\n",
    "file_name = '/tmp/test.jpg'\n",
    "# test image\n",
    "from IPython.display import Image\n",
    "Image(file_name)  \n"
   ]
  },
  {
   "cell_type": "code",
   "execution_count": 10,
   "metadata": {},
   "outputs": [
    {
     "name": "stdout",
     "output_type": "stream",
     "text": [
      "Result: label - Corn_(maize)___Northern_Leaf_Blight, probability - 0.9999648332595825\n"
     ]
    }
   ],
   "source": [
    "#Runinference\n",
    "import json\n",
    "import numpy as np\n",
    "\n",
    "endpoint_name = 'testingendpoint'\n",
    "\n",
    "\n",
    "with open(file_name, 'rb') as f:\n",
    "    payload = f.read()\n",
    "    payload = bytearray(payload)\n",
    "response = runtime.invoke_endpoint(EndpointName=endpoint_name, \n",
    "                                   ContentType='application/x-image', \n",
    "                                   Body=payload)\n",
    "result = response['Body'].read()\n",
    "# result will be in json format and convert it to ndarray\n",
    "result = json.loads(result)\n",
    "# the result will output the probabilities for all classes\n",
    "# find the class with maximum probability and print the class index\n",
    "index = np.argmax(result)\n",
    "object_categories = ['Corn_(maize)___Cercospora_leaf_spot Gray_leaf_spot', 'Corn_(maize)___Common_rust_', 'Corn_(maize)___healthy','Corn_(maize)___Northern_Leaf_Blight']\n",
    "print(\"Result: label - \" + object_categories[index] + \", probability - \" + str(result[index]))"
   ]
  },
  {
   "cell_type": "code",
   "execution_count": null,
   "metadata": {},
   "outputs": [],
   "source": []
  }
 ],
 "metadata": {
  "kernelspec": {
   "display_name": "Python 3",
   "language": "python",
   "name": "python3"
  },
  "language_info": {
   "codemirror_mode": {
    "name": "ipython",
    "version": 3
   },
   "file_extension": ".py",
   "mimetype": "text/x-python",
   "name": "python",
   "nbconvert_exporter": "python",
   "pygments_lexer": "ipython3",
   "version": "3.7.6"
  }
 },
 "nbformat": 4,
 "nbformat_minor": 4
}
